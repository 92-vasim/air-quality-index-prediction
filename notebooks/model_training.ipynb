{
  "cells": [
    {
      "cell_type": "markdown",
      "metadata": {
        "id": "78cMQzgJkS8U"
      },
      "source": [
        "## Air Quality Index Prediction Model Training"
      ]
    },
    {
      "cell_type": "code",
      "execution_count": null,
      "metadata": {
        "colab": {
          "base_uri": "https://localhost:8080/"
        },
        "id": "xpd1tUeLd_tg",
        "outputId": "266cc890-decf-4b05-ac5b-4bc633f7b5e3"
      },
      "outputs": [],
      "source": [
        "!wget https://raw.githubusercontent.com/92-vasim/datasets/main/aqi-dataset/air%20quality%20data.csv"
      ]
    },
    {
      "cell_type": "code",
      "execution_count": null,
      "metadata": {
        "id": "3SWsNjjykS9E"
      },
      "outputs": [],
      "source": [
        "import pandas as pd\n",
        "import seaborn as sns\n",
        "import numpy as np\n",
        "import matplotlib.pyplot as plt\n",
        "import logging\n",
        "\n",
        "logging.basicConfig(level=logging.INFO, format=\"[%(asctime)s]: %(message)s\")"
      ]
    },
    {
      "cell_type": "code",
      "execution_count": null,
      "metadata": {
        "colab": {
          "base_uri": "https://localhost:8080/",
          "height": 206
        },
        "id": "lEqPBRIGkS9a",
        "outputId": "9dfa310c-7f88-4032-d7c2-db3d8dd68a27"
      },
      "outputs": [],
      "source": [
        "df = pd.read_csv(\"air quality data.csv\")\n",
        "df.head()"
      ]
    },
    {
      "cell_type": "markdown",
      "metadata": {
        "id": "gtjnHrGbkS9c"
      },
      "source": [
        "#### Check for null values"
      ]
    },
    {
      "cell_type": "code",
      "execution_count": null,
      "metadata": {
        "colab": {
          "base_uri": "https://localhost:8080/",
          "height": 447
        },
        "id": "grYLfvd2kS9c",
        "outputId": "f580f782-6364-4ed7-cc96-0a9a02c1067b"
      },
      "outputs": [],
      "source": [
        "sns.heatmap(data=df.isnull(), yticklabels=False, cbar=False, cmap='viridis')"
      ]
    },
    {
      "cell_type": "code",
      "execution_count": null,
      "metadata": {
        "id": "Qex488KZkS9c"
      },
      "outputs": [],
      "source": [
        "df = df.dropna()"
      ]
    },
    {
      "cell_type": "markdown",
      "metadata": {
        "id": "-uRwKVomkS9d"
      },
      "source": [
        "#### Separating independent & dependent features"
      ]
    },
    {
      "cell_type": "code",
      "execution_count": null,
      "metadata": {
        "colab": {
          "base_uri": "https://localhost:8080/"
        },
        "id": "EzJveKivkS9d",
        "outputId": "5201d817-9b58-4c20-9ef2-e9bc4670a000"
      },
      "outputs": [],
      "source": [
        "df.columns"
      ]
    },
    {
      "cell_type": "code",
      "execution_count": null,
      "metadata": {
        "id": "ruo9qbErkS9e"
      },
      "outputs": [],
      "source": [
        "X = df.drop('PM 2.5', axis=1)\n",
        "y = df['PM 2.5']"
      ]
    },
    {
      "cell_type": "code",
      "execution_count": null,
      "metadata": {
        "colab": {
          "base_uri": "https://localhost:8080/"
        },
        "id": "TsFBE4C7kS9e",
        "outputId": "86038c2f-8c6a-40f9-c4ed-2a6a832ea0f8"
      },
      "outputs": [],
      "source": [
        "X.isnull().sum()"
      ]
    },
    {
      "cell_type": "markdown",
      "metadata": {
        "id": "N3S-_OIMkS9f"
      },
      "source": [
        "#### Pair plot\n",
        "We can know the relations and trends between every two features"
      ]
    },
    {
      "cell_type": "code",
      "execution_count": null,
      "metadata": {
        "colab": {
          "base_uri": "https://localhost:8080/",
          "height": 1000
        },
        "id": "F1e2kN-2kS9f",
        "outputId": "91be8d26-78bd-43f1-a4eb-8734f5d57316"
      },
      "outputs": [],
      "source": [
        "sns.pairplot(df)"
      ]
    },
    {
      "cell_type": "markdown",
      "metadata": {
        "id": "lSDLd1xFkS9f"
      },
      "source": [
        "#### Correlations"
      ]
    },
    {
      "cell_type": "code",
      "execution_count": null,
      "metadata": {
        "colab": {
          "base_uri": "https://localhost:8080/",
          "height": 331
        },
        "id": "vip5rzGEkS9g",
        "outputId": "caa491c0-9b15-4da1-fe2a-9f2b096df38c"
      },
      "outputs": [],
      "source": [
        "df.corr()"
      ]
    },
    {
      "cell_type": "markdown",
      "metadata": {
        "id": "BSoFTnlBkS9g"
      },
      "source": [
        "#### Correlation matrix with heatmap"
      ]
    },
    {
      "cell_type": "markdown",
      "metadata": {
        "id": "MTI-NpJVkS9g"
      },
      "source": [
        "Correlation states how the featrues are related to each other or the target variable. <br>\n",
        "Correlation can be positive (increasein one value of feature increases the value of the target variable) or negative (increase in one value of feature decreases the value of the target variable).<br>\n",
        "Heatmap makes it easy to indentify which features are most related to the target variable, we will plot heatmap of correlated features using the seaborn library."
      ]
    },
    {
      "cell_type": "code",
      "execution_count": null,
      "metadata": {
        "colab": {
          "base_uri": "https://localhost:8080/",
          "height": 1000
        },
        "id": "fWU5Bq1XkS9h",
        "outputId": "b1072590-1f23-4564-cd9e-1f1e54986d17"
      },
      "outputs": [],
      "source": [
        "correlations = df.corr()\n",
        "top_corr_features = correlations.index\n",
        "plt.figure(figsize=(20, 20))\n",
        "\n",
        "sns.heatmap(df[top_corr_features].corr(), annot=True, cmap=\"RdYlGn\")"
      ]
    },
    {
      "cell_type": "code",
      "execution_count": null,
      "metadata": {
        "colab": {
          "base_uri": "https://localhost:8080/"
        },
        "id": "_QlPrEVvkS9h",
        "outputId": "384a8331-97c8-4686-cdcd-fd2566ef90dd"
      },
      "outputs": [],
      "source": [
        "correlations.index"
      ]
    },
    {
      "cell_type": "markdown",
      "metadata": {
        "id": "YVAsWLhWkS9i"
      },
      "source": [
        "#### Feature importance with graph"
      ]
    },
    {
      "cell_type": "markdown",
      "metadata": {
        "id": "RfARiSmTkS9i"
      },
      "source": [
        "You can get the feature importance of each feature of your dataset by using the feature importance property of the model. <br>\n",
        "Feature importance gives you a score for each feature of your data, the higher the score more important or relevant is the feature towards your output variable. <br>\n",
        "Feature importance is an in-built class that comes with Tree based regressor, we will be using Extra Tree Regressor for extracting the top 10 features for the dataset."
      ]
    },
    {
      "cell_type": "code",
      "execution_count": null,
      "metadata": {
        "colab": {
          "base_uri": "https://localhost:8080/",
          "height": 74
        },
        "id": "eSj7fHLKkS9j",
        "outputId": "0c082a01-e238-4894-8691-e71d52063ee4"
      },
      "outputs": [],
      "source": [
        "from sklearn.ensemble import ExtraTreesRegressor\n",
        "tree_regressor = ExtraTreesRegressor()\n",
        "tree_regressor.fit(X, y)"
      ]
    },
    {
      "cell_type": "code",
      "execution_count": null,
      "metadata": {
        "colab": {
          "base_uri": "https://localhost:8080/",
          "height": 206
        },
        "id": "LWBd8R78kS9o",
        "outputId": "b0c27fe5-db79-486d-9bf6-990871693332"
      },
      "outputs": [],
      "source": [
        "X.head()"
      ]
    },
    {
      "cell_type": "code",
      "execution_count": null,
      "metadata": {
        "colab": {
          "base_uri": "https://localhost:8080/"
        },
        "id": "6G1M_GDXkS9p",
        "outputId": "371dcfdb-5c4b-4f2c-cbb0-7ac270a4af63"
      },
      "outputs": [],
      "source": [
        "tree_regressor.feature_importances_"
      ]
    },
    {
      "cell_type": "code",
      "execution_count": null,
      "metadata": {
        "colab": {
          "base_uri": "https://localhost:8080/",
          "height": 447
        },
        "id": "5d5rxcOJkS9q",
        "outputId": "9699b08b-366a-459b-ab52-c6aa81834817"
      },
      "outputs": [],
      "source": [
        "import_features = pd.Series(tree_regressor.feature_importances_, index=X.columns)\n",
        "import_features.nlargest(5).plot(kind='barh')"
      ]
    },
    {
      "cell_type": "code",
      "execution_count": null,
      "metadata": {
        "colab": {
          "base_uri": "https://localhost:8080/",
          "height": 657
        },
        "id": "YjNREBOdkS9q",
        "outputId": "feec88c6-16e9-4731-dc43-c30f453f74a8"
      },
      "outputs": [],
      "source": [
        "sns.distplot(y)"
      ]
    },
    {
      "cell_type": "markdown",
      "metadata": {
        "id": "3jR7wp4JkS9r"
      },
      "source": [
        "#### Training"
      ]
    },
    {
      "cell_type": "code",
      "execution_count": null,
      "metadata": {
        "id": "H3H_FYHoMVHR"
      },
      "outputs": [],
      "source": [
        "!pip install xgboost catboost\n",
        "!pip install numpy pandas"
      ]
    },
    {
      "cell_type": "code",
      "execution_count": null,
      "metadata": {},
      "outputs": [],
      "source": [
        "import numpy as np\n",
        "import pandas as pd\n",
        "from sklearn.model_selection import train_test_split, GridSearchCV"
      ]
    },
    {
      "cell_type": "code",
      "execution_count": null,
      "metadata": {
        "id": "O1jg381GMKvL"
      },
      "outputs": [],
      "source": [
        "# Import necessary libraries\n",
        "from sklearn.linear_model import LinearRegression, Ridge, Lasso, ElasticNet\n",
        "from sklearn.tree import DecisionTreeRegressor\n",
        "from sklearn.ensemble import RandomForestRegressor, GradientBoostingRegressor\n",
        "from sklearn.svm import SVR\n",
        "from sklearn.neighbors import KNeighborsRegressor\n",
        "from xgboost import XGBRegressor\n",
        "from catboost import CatBoostRegressor\n",
        "\n",
        "# Define a dictionary of regression models with their respective parameter grids for GridSearchCV\n",
        "models = {\n",
        "    'Linear Regression': {\n",
        "        'model': LinearRegression(),\n",
        "        'param_grid': {}\n",
        "    },\n",
        "    'Ridge Regression': {\n",
        "        'model': Ridge(),\n",
        "        'param_grid': {\n",
        "            'alpha': [0.1, 1, 10]\n",
        "        }\n",
        "    },\n",
        "    'Lasso Regression': {\n",
        "        'model': Lasso(),\n",
        "        'param_grid': {\n",
        "            'alpha': [0.1, 1, 10]\n",
        "        }\n",
        "    },\n",
        "    'Elastic Net': {\n",
        "        'model': ElasticNet(),\n",
        "        'param_grid': {\n",
        "            'alpha': [0.1, 1, 10],\n",
        "            'l1_ratio': [0.1, 0.5, 0.9]\n",
        "        }\n",
        "    },\n",
        "    'Decision Tree Regressor': {\n",
        "        'model': DecisionTreeRegressor(),\n",
        "        'param_grid': {\n",
        "            'max_depth': [None, 5, 10, 20],\n",
        "            'min_samples_split': [2, 5, 10]\n",
        "        }\n",
        "    },\n",
        "    'Random Forest Regressor': {\n",
        "        'model': RandomForestRegressor(),\n",
        "        'param_grid': {\n",
        "            'n_estimators': [100, 200, 300],\n",
        "            'max_depth': [None, 10, 20],\n",
        "            'min_samples_split': [2, 5, 10]\n",
        "        }\n",
        "    },\n",
        "    # 'Gradient Boosting Regressor': {\n",
        "    #     'model': GradientBoostingRegressor(verbose=1),\n",
        "    #     'param_grid': {\n",
        "    #         'n_estimators': [100, 200, 300],\n",
        "    #         'max_depth': [3, 4, 5],\n",
        "    #         'learning_rate': [0.01, 0.1, 0.2]\n",
        "    #     }\n",
        "    # },\n",
        "    'Support Vector Regressor': {\n",
        "        'model': SVR(),\n",
        "        'param_grid': {\n",
        "            'C': [0.1, 1, 10],\n",
        "            'kernel': ['linear', 'rbf', 'poly']\n",
        "        }\n",
        "    },\n",
        "    'K-Nearest Neighbors Regressor': {\n",
        "        'model': KNeighborsRegressor(),\n",
        "        'param_grid': {\n",
        "            'n_neighbors': [3, 5, 7, 9],\n",
        "            'weights': ['uniform', 'distance']\n",
        "        }\n",
        "    },\n",
        "    'XGBoost Regressor': {\n",
        "        'model': XGBRegressor(),\n",
        "        'param_grid': {\n",
        "            'n_estimators': [100, 200, 300],\n",
        "            'max_depth': [3, 4, 5],\n",
        "            'learning_rate': [0.01, 0.1, 0.2]\n",
        "        }\n",
        "    },\n",
        "    # 'CatBoost Regressor': {\n",
        "    #     'model': CatBoostRegressor(verbose=1),\n",
        "    #     'param_grid': {\n",
        "    #         'iterations': [100, 200, 300],\n",
        "    #         'depth': [4, 6, 8],\n",
        "    #         'learning_rate': [0.01, 0.1, 0.2]\n",
        "    #     }\n",
        "    # }\n",
        "}\n",
        "\n",
        "# Rest of the code remains the same as provided in the previous responses.\n"
      ]
    },
    {
      "cell_type": "code",
      "execution_count": null,
      "metadata": {
        "colab": {
          "base_uri": "https://localhost:8080/"
        },
        "id": "bXmAFPUWMloI",
        "outputId": "4093068c-404c-4a04-c83b-0187bbc7f0e4"
      },
      "outputs": [],
      "source": []
    },
    {
      "cell_type": "code",
      "execution_count": null,
      "metadata": {},
      "outputs": [],
      "source": [
        "# Define a function to train models with different hyperparameters using GridSearchCV\n",
        "def train_and_select_best_model(X, y, test_size=0.2, random_state=42):\n",
        "    best_model = None\n",
        "    best_r2_score = 0.7  # Initialize with a low value\n",
        "    best_hyperparameters = None\n",
        "\n",
        "    # Split the data into training and testing sets\n",
        "    X_train, X_test, y_train, y_test = train_test_split(X, y, test_size=test_size, random_state=random_state)\n",
        "\n",
        "    for model_name, model_data in models.items():\n",
        "        model = model_data['model']\n",
        "        param_grid = model_data['param_grid']\n",
        "\n",
        "        # Create GridSearchCV for hyperparameter tuning\n",
        "        grid_search = GridSearchCV(model, param_grid, cv=5, scoring='r2')\n",
        "\n",
        "        # Fit GridSearchCV to the training data\n",
        "        grid_search.fit(X_train, y_train)\n",
        "\n",
        "        # Get the best model and its R-squared (R2) score\n",
        "        best_model_cv = grid_search.best_estimator_\n",
        "        r2_score = best_model_cv.score(X_test, y_test)\n",
        "\n",
        "        print(f\"{model_name} - Best R2 Score: {r2_score}\")\n",
        "        print(f\"Best Hyperparameters: {grid_search.best_params_}\")\n",
        "\n",
        "        # Check if this model has a better R2 score than the current best\n",
        "        if r2_score > best_r2_score:\n",
        "            best_r2_score = r2_score\n",
        "            best_model = model_name\n",
        "            best_hyperparameters = grid_search.best_params_\n",
        "\n",
        "    if best_model is not None:\n",
        "        print(f\"The best model is: {best_model} with R2 Score: {best_r2_score}\")\n",
        "        print(f\"Best Hyperparameters: {best_hyperparameters}\")\n",
        "        return models[best_model]['model'], best_hyperparameters\n",
        "    else:\n",
        "        print(\"No best model found.\")\n",
        "        return None, None\n",
        "\n",
        "# Example usage:\n",
        "# Replace X and y with your dataset and target variable\n",
        "# best_model, best_hyperparameters = train_and_select_best_model(X, y)\n"
      ]
    },
    {
      "cell_type": "code",
      "execution_count": null,
      "metadata": {},
      "outputs": [],
      "source": [
        "# Example usage:\n",
        "# Replace X and y with your dataset and target variable\n",
        "best_model, best_hyperparameters = train_and_select_best_model(X, y)"
      ]
    },
    {
      "cell_type": "code",
      "execution_count": null,
      "metadata": {
        "colab": {
          "base_uri": "https://localhost:8080/",
          "height": 248
        },
        "id": "eMEmrdzDMup8",
        "outputId": "6a81fe86-f4f4-4c03-f087-e23b4d6ec730"
      },
      "outputs": [],
      "source": [
        "best_model"
      ]
    },
    {
      "cell_type": "code",
      "execution_count": null,
      "metadata": {
        "id": "WaY3hoS4PEqo"
      },
      "outputs": [],
      "source": []
    }
  ],
  "metadata": {
    "accelerator": "GPU",
    "colab": {
      "provenance": []
    },
    "kernelspec": {
      "display_name": "Python 3",
      "name": "python3"
    },
    "language_info": {
      "codemirror_mode": {
        "name": "ipython",
        "version": 3
      },
      "file_extension": ".py",
      "mimetype": "text/x-python",
      "name": "python",
      "nbconvert_exporter": "python",
      "pygments_lexer": "ipython3",
      "version": "3.9.11"
    }
  },
  "nbformat": 4,
  "nbformat_minor": 0
}
